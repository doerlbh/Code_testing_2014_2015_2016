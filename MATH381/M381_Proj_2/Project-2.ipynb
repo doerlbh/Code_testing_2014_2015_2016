{
 "cells": [
  {
   "cell_type": "markdown",
   "metadata": {},
   "source": [
    "### Light Reactions\n",
    "\n",
    "2 H$_2$O + 8 $\\gamma$ + 2 NADP + 3 ADP + 3 P$_i$ $\\rightarrow$ O$_2$ + 3 ATP + 2 NADPH\n",
    "\n",
    "### Dark Reactions\n",
    "\n",
    "6 CO$_2$ + 6 H$_2$O + 6 RuBP + 12 ATP $\\rightarrow$ 12 1,3-BPG + 12 ADP\n",
    "\n",
    "12 1,3-BGP + 12 NADPH $\\rightarrow$ 12 NADP + 12 G3P + 12 P$_i$\n",
    "\n",
    "5 G3P $\\rightarrow$ 5 DHAP\n",
    "\n",
    "3 G3P + 3 DHAP $\\rightarrow$ 3 FBP\n",
    "\n",
    "3 FBP + 3 H$_2$O $\\rightarrow$ 3 F6P + 3 P$_i$\n",
    "\n",
    "1 F6P $\\rightarrow$ 1 G6P\n",
    "\n",
    "1 G6P + 1 H$_2$O $\\rightarrow$ 1 Glucose + 1 P$_i$\n",
    "\n",
    "2 F6P + 2 G3P $\\rightarrow$ 2 Xu5P + 2 E4P\n",
    "\n",
    "2 E4P + 2 DHAP $\\rightarrow$ 2 SBP\n",
    "\n",
    "2 SBP + 2 H$_2$O + 2 G3P $\\rightarrow$ 4 Ru5P + 2 P$_i$\n",
    "\n",
    "6 Ru5P + 6 ATP $\\rightarrow$ 6 RuBP + 6 ADP\n",
    "\n",
    "\n",
    "#### Net\n",
    "\n",
    "6 CO$_2$ + 18 ATP + 12 NADPH + 12 H + 12 H$_2$O $\\rightarrow$ 1 Glucose + 18 ADP + 18 P$_i$ + 12 NADP"
   ]
  },
  {
   "cell_type": "markdown",
   "metadata": {},
   "source": [
    "### Simple Model\n",
    "\n",
    "2 H$_2$O + 8 $\\gamma$ + 2 NADP + 3 ADP + 3 P$_i$ $\\rightarrow$ O$_2$ + 3 ATP + 2 NADPH  (k$_0$ as a function of light)\n",
    "\n",
    "6 CO$_2$ + 18 ATP + 12 NADPH + 12 H$_2$O $\\rightarrow$ 1 Glucose + 18 ADP + 18 P$_i$ + 12 NADP (k$_1$)\n",
    "\n",
    "$a_0 = k_0\\cdot[NADP][ADP][P_i]$\n",
    "\n",
    "$a_1 = k_1\\cdot[CO_2][ATP][NADPH][H]$\n",
    "\n",
    "$\\frac{d[H_2O]}{dt} \\approx 0$\n",
    "\n",
    "$\\frac{d[NADP]}{dt} = -2a_0 + 12a_1$\n",
    "\n",
    "$\\frac{d[ADP]}{dt} = -3a_0 + 18a_1$\n",
    "\n",
    "$\\frac{d[P_i]}{dt} = -3a_0 + 18a_1$\n",
    "\n",
    "$\\frac{d[O_2]}{dt} = a_0 -D_1$\n",
    "\n",
    "$\\frac{d[ATP]}{dt} = 3a_0 - 18a_1$\n",
    "\n",
    "$\\frac{d[NADPH]}{dt} = 2a_0 -12a_1$\n",
    "\n",
    "$\\frac{d[CO_2]}{dt} = -6a_1 + D_2$\n",
    "\n",
    "$\\frac{d[Glucose]}{dt} = a_1 - D_4$\n",
    "\n",
    "\n",
    "\n"
   ]
  },
  {
   "cell_type": "markdown",
   "metadata": {},
   "source": [
    "Raw Data\n",
    "--------\n",
    "\n",
    "[NADP] = 8e-5 M\n",
    "\n",
    "[ATP] = 1.5 mM\n",
    "\n",
    "[ADP] = 0.5 mM\n",
    "\n",
    "[NADPH] = 0.1 mM\n",
    "\n",
    "[P] = 100 mM\n",
    "\n",
    "[RuBP] = 0.15 mM\n",
    "\n",
    "[O2] = 0.3 mM\n",
    "\n",
    "[CO2] = 0.3 mM"
   ]
  },
  {
   "cell_type": "code",
   "execution_count": 3,
   "metadata": {
    "collapsed": true
   },
   "outputs": [],
   "source": [
    "%matplotlib inline\n",
    "import numpy as np\n",
    "import matplotlib.pyplot as plt"
   ]
  },
  {
   "cell_type": "code",
   "execution_count": 130,
   "metadata": {
    "collapsed": false
   },
   "outputs": [],
   "source": [
    "volume = 3.3e-14\n",
    "\n",
    "k_rates = [2500, 300]\n",
    "reactants = np.array([1600000,      # NADP\n",
    "                      9936300,      # ADP\n",
    "                      1987260000,   # P\n",
    "                      5961700,      # O2\n",
    "                      29808900,     # ATP\n",
    "                      1987200,      # NADPH\n",
    "                      5961700,      # CO2\n",
    "                      0])           # Glucose\n",
    "\n",
    "\n",
    "reactant_matrix = np.array([[1, 0],\n",
    "                            [1, 0],\n",
    "                            [1, 0],\n",
    "                            [0, 0],\n",
    "                            [0, 1],\n",
    "                            [0, 1],\n",
    "                            [0, 1],\n",
    "                            [0, 0]])\n",
    "\n",
    "state_change = np.array([[-2,  12],\n",
    "                         [-3,  18],\n",
    "                         [-3,  18],\n",
    "                         [ 0,   1],\n",
    "                         [ 3, -18],\n",
    "                         [ 2,  12],\n",
    "                         [ 0,  -6],\n",
    "                         [ 0,   1]])\n",
    "\n",
    "def simulate(reactants, k_rates, reactant_matrix, state_change, volume, time):\n",
    "    t = [0]\n",
    "    R = [reactants]\n",
    "    while t[-1] < time:        \n",
    "        \n",
    "        rates = calculate_reaction_rates(reactants, k_rates, reactant_matrix, volume)\n",
    "        total_rate = np.sum(rates)\n",
    "    \n",
    "        tau = -1/total_rate*np.log(np.random.random())\n",
    "        r = total_rate*np.random.random()\n",
    "    \n",
    "        current = 0\n",
    "    \n",
    "        for i in range(len(rates)):\n",
    "            current += rates[i]\n",
    "            if current > r:\n",
    "                selection = i\n",
    "                break\n",
    "    \n",
    "        reactants += state_change[:, i]\n",
    "        t.append(t[-1] + tau)\n",
    "        R.append(reactants.copy())\n",
    "        \n",
    "    return np.array(t), np.array(R)\n",
    "    \n",
    "    \n",
    "\n",
    "def calculate_reaction_rates(reactants, k_rates, reactant_matrix, volume):\n",
    "    \n",
    "    concentrations = np.abs(reactants)/(6.022e23*volume)\n",
    "    a = np.zeros(len(k_rates))\n",
    "    \n",
    "    for i in range(len(k_rates)):        \n",
    "        a[i] = k_rates[i]*np.dot(concentrations, reactant_matrix[:, i])\n",
    "        \n",
    "    return np.array(a)\n",
    "        \n",
    "    \n",
    "    \n",
    "\n"
   ]
  },
  {
   "cell_type": "code",
   "execution_count": 131,
   "metadata": {
    "collapsed": false,
    "scrolled": false
   },
   "outputs": [],
   "source": [
    "t, R = simulate(reactants, k_rates, reactant_matrix, state_change, volume, 5000)"
   ]
  },
  {
   "cell_type": "code",
   "execution_count": 133,
   "metadata": {
    "collapsed": false
   },
   "outputs": [
    {
     "data": {
      "text/plain": [
       "<matplotlib.text.Text at 0x7f97c233ad68>"
      ]
     },
     "execution_count": 133,
     "metadata": {},
     "output_type": "execute_result"
    },
    {
     "data": {
      "image/png": "[encoded data removed]",
      "text/plain": [
       "<matplotlib.figure.Figure at 0x7f979e84cbe0>"
      ]
     },
     "metadata": {},
     "output_type": "display_data"
    }
   ],
   "source": [
    "plt.plot(t, R[:,7])\n",
    "plt.xlabel('Time (seconds)')\n",
    "plt.ylabel('Glucose molecules produced')"
   ]
  },
  {
   "cell_type": "code",
   "execution_count": null,
   "metadata": {
    "collapsed": false
   },
   "outputs": [],
   "source": []
  },
  {
   "cell_type": "code",
   "execution_count": 115,
   "metadata": {
    "collapsed": false
   },
   "outputs": [
    {
     "data": {
      "text/plain": [
       "0.01559342545454546"
      ]
     },
     "execution_count": 115,
     "metadata": {},
     "output_type": "execute_result"
    }
   ],
   "source": [
    "single_grana_region = 1.2*1.187e-7*1.1**2*1.6e-13 - 1.9e-20\n",
    "total_vol = 60*single_grana_region\n",
    "total_vol/3.3e-17"
   ]
  },
  {
   "cell_type": "code",
   "execution_count": 119,
   "metadata": {
    "collapsed": false
   },
   "outputs": [
    {
     "data": {
      "text/plain": [
       "2592.5925925925926"
      ]
     },
     "execution_count": 119,
     "metadata": {},
     "output_type": "execute_result"
    }
   ],
   "source": [
    "photosystems_per_thylakoid = 7e8/300/60/15 # ~ 2500"
   ]
  },
  {
   "cell_type": "code",
   "execution_count": null,
   "metadata": {
    "collapsed": true
   },
   "outputs": [],
   "source": []
  }
 ],
 "metadata": {
  "kernelspec": {
   "display_name": "Python 3",
   "language": "python",
   "name": "python3"
  },
  "language_info": {
   "codemirror_mode": {
    "name": "ipython",
    "version": 3
   },
   "file_extension": ".py",
   "mimetype": "text/x-python",
   "name": "python",
   "nbconvert_exporter": "python",
   "pygments_lexer": "ipython3",
   "version": "3.5.2"
  }
 },
 "nbformat": 4,
 "nbformat_minor": 1
}
